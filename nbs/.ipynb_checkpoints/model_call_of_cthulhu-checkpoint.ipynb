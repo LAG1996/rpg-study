{
 "cells": [
  {
   "cell_type": "markdown",
   "metadata": {},
   "source": [
    "# Modeling Stat Interactions based on the Call of Cthulhu board game\n",
    "\n",
    "In the *Call of Cthulhu* board game, player character stats can be grouped into \"characteristics\", \"skills\", \"attributes\", and \"occupations\"."
   ]
  },
  {
   "cell_type": "markdown",
   "metadata": {},
   "source": [
    "## Characteristics\n",
    "\n",
    "Characteristics can be further distinguished by whether they are *direct* or *indirect*. Direct characteristics are determined by player dice rolls or choice, while indirect characteristics are calculated once direct ones have been determined."
   ]
  },
  {
   "cell_type": "code",
   "execution_count": 2,
   "metadata": {},
   "outputs": [],
   "source": [
    "class Characteristic():\n",
    "    def __init__(self, allotment_rule):\n",
    "        self._allotment_rule = allotment_rule\n",
    "        self._value = self._allotment_rule()\n",
    "        \n",
    "    def get_value(self):\n",
    "        return self._value"
   ]
  },
  {
   "cell_type": "code",
   "execution_count": 4,
   "metadata": {},
   "outputs": [],
   "source": [
    "class Occupation():\n",
    "    def __init__(self, skills, credit_rating, skill_function):\n",
    "        self._skills = skills\n",
    "        self._CR = credit_rating\n",
    "        \n",
    "    def get_skills(self):\n",
    "        return self._skills\n",
    "    \n",
    "    def get_credit_rating(self):\n",
    "        return self._CR\n",
    "    \n",
    "    def skill_function(self, *args):\n",
    "        return self.skill_function(*args)"
   ]
  },
  {
   "cell_type": "code",
   "execution_count": 6,
   "metadata": {},
   "outputs": [],
   "source": [
    "class Skill():\n",
    "    def __init__(self, base_value):\n",
    "        self._base_value = base_value\n",
    "        \n",
    "    def get_base_value(self):\n",
    "        return self._base_value"
   ]
  },
  {
   "cell_type": "code",
   "execution_count": 9,
   "metadata": {},
   "outputs": [],
   "source": [
    "class PlayerCharacter():\n",
    "    def __init__(self, characteristics):\n",
    "        pass"
   ]
  },
  {
   "cell_type": "code",
   "execution_count": 8,
   "metadata": {},
   "outputs": [],
   "source": [
    "def initialize_character():\n",
    "    # initialize characteristics\n",
    "    \n",
    "    # pick occupation\n",
    "    \n",
    "    # allot skill points\n",
    "    pass"
   ]
  }
 ],
 "metadata": {
  "kernelspec": {
   "display_name": "Python 3",
   "language": "python",
   "name": "python3"
  },
  "language_info": {
   "codemirror_mode": {
    "name": "ipython",
    "version": 3
   },
   "file_extension": ".py",
   "mimetype": "text/x-python",
   "name": "python",
   "nbconvert_exporter": "python",
   "pygments_lexer": "ipython3",
   "version": "3.8.2"
  }
 },
 "nbformat": 4,
 "nbformat_minor": 4
}
