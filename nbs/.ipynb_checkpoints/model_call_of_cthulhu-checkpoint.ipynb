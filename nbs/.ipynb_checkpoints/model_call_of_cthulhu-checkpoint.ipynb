{
 "cells": [
  {
   "cell_type": "markdown",
   "metadata": {},
   "source": [
    "# Modeling Stat Interactions based on the Call of Cthulhu board game\n",
    "\n",
    "In the *Call of Cthulhu* board game, player character stats can be grouped into \"characteristics\", \"skills\", \"attributes\", and \"occupations\"."
   ]
  },
  {
   "cell_type": "markdown",
   "metadata": {},
   "source": [
    "## Characteristics\n",
    "\n",
    "Characteristics can be further distinguished by whether they are *direct* or *indirect*. Direct characteristics are determined by player dice rolls or choice, while indirect characteristics are calculated once direct ones have been determined.\n",
    "\n",
    "There are ten direct characteristics in the game:\n",
    "1. Age\n",
    "2. Appearance\n",
    "3. Constitution\n",
    "4. Dexterity\n",
    "5. Education\n",
    "6. Intelligence\n",
    "7. Luck\n",
    "8. Power\n",
    "9. Size\n",
    "10. Strength\n",
    "\n",
    "Of the ten characteristics, Age (1) and Luck (7) do not directly factor into skill allotment. Age has some indirect \n",
    "\n",
    "There are three indirect characteristics in the game:\n",
    "1. Damage Bonus and Build\n",
    "2. Hit Points\n",
    "3. Movement Rate"
   ]
  },
  {
   "cell_type": "code",
   "execution_count": 52,
   "metadata": {},
   "outputs": [
    {
     "ename": "SyntaxError",
     "evalue": "invalid syntax (<ipython-input-52-c8a18defb3fb>, line 21)",
     "output_type": "error",
     "traceback": [
      "\u001b[0;36m  File \u001b[0;32m\"<ipython-input-52-c8a18defb3fb>\"\u001b[0;36m, line \u001b[0;32m21\u001b[0m\n\u001b[0;31m    character.characteristics = character.characteristics + [0, 0, 0, 0, -5, 0, 0, 0, -5, -5]\u001b[0m\n\u001b[0m                              ^\u001b[0m\n\u001b[0;31mSyntaxError\u001b[0m\u001b[0;31m:\u001b[0m invalid syntax\n"
     ]
    }
   ],
   "source": [
    "import random\n",
    "import numpy as np\n",
    "\n",
    "# array of tuples of the form (stat_min, stat_max). The values are taken from the\n",
    "# Characteristics section of the player handbook\n",
    "CHARACTERISTICS = {\n",
    "    'AGE': (15, 90), # \"...choose any age between 15 and 90...\"\n",
    "    'APPEARANCE': (15, 90), # \"...Roll 3D6 and Multiply by 5...\"\n",
    "    'CONSTITUTION': (15, 90), # \"...Roll 3D6 and Multiply by 5...\"\n",
    "    'DEXTERITY': (15, 90), # \"...Roll 3D6 and Multiply by 5...\"\n",
    "    'EDUCATION': (40, 90), # \"...Roll 2D6 + 6 and Multiply by 5...\"\n",
    "    'INTELLIGENCE': (40, 90), # \"...Roll 2D6 + 6 and Multiply by 5...\"\n",
    "    'LUCK': (40, 90), # \"...Roll 2D6 + 6 and Multiply by 5...\"\n",
    "    'POWER': (15, 90), # \"...Roll 3D6 and Multiply by 5...\"\n",
    "    'SIZE': (40, 90), # \"...Roll 2D6 + 6 and Multiply by 5...\"\n",
    "    'STRENGTH': (15, 90) # \"...Roll 3D6 and Multiply by 5...\"\n",
    "}\n",
    "\n",
    "PI_MULTIPLIER = 2.\n",
    "\n",
    "def indexOf(key, dictionary):\n",
    "    return list(dictionary.keys()).index(key)\n",
    "\n",
    "assert indexOf('INTELLIGENCE', CHARACTERISTICS) == 5\n",
    "\n",
    "class Character():\n",
    "    def __init__(self, characteristics=None):\n",
    "        # public\n",
    "        self.characteristics = characteristics\n",
    "        # self.occupation = Occupation()\n",
    "        # self.skills = []\n",
    "        # private\n",
    "        self._character_seeds = np.random.rand(len(CHARACTERISTICS))\n",
    "        # initialization\n",
    "        if characteristics is None:\n",
    "            self._roll_characteristics()\n",
    "            \n",
    "    def modify_characteristic(self, characteristic, func):\n",
    "        self.characteristics[indexOf[characteristic, CHARACTERISTICS]] = func(self.get_characteristic_val(characteristic))\n",
    "            \n",
    "    def get_personal_interest_points(self):\n",
    "        return self.get_characteristic_val('INTELLIGENCE') * PI_MULTIPLIER\n",
    "\n",
    "    def get_characteristic_val(self, characteristic):\n",
    "        return self.characteristics[indexOf[characteristic, CHARACTERISTICS]]\n",
    "    \n",
    "    def _roll_characteristics(self):\n",
    "        self.characteristics = np.empty(len(CHARACTERISTICS))\n",
    "        for i, c in enumerate(CHARACTERISTICS):\n",
    "            random.seed(self._character_seeds[i])\n",
    "            char_range = CHARACTERISTICS[c]\n",
    "            self.characteristics[i] = np.random.randint(char_range[0], char_range[1])\n",
    "            \n",
    "    def _apply_age_modifier(self):\n",
    "        age = self._get_characteristic_val('AGE')\n",
    "        if age <= 19:\n",
    "            self.modify_characteristic('STRENGTH', lambda s: s - 5)\n",
    "            self.modify_characteristic('SIZE', lambda s: s - 5)\n",
    "            self.modify_characteristic('EDUCATION', lambda e: e - 5)\n",
    "            self.modify_characteristic('LUCK', lambda l: np.max([l, np.randint(CHARACTERISTICS['LUCK'])]))\n",
    "        \n",
    "        elif age <= 39:\n",
    "            self._improve_education(1)\n",
    "        \n",
    "        elif age <= 49:\n",
    "            self._improve_education(2)\n",
    "            self.make_distributed_modification(('STRENGTH', 'CONSTITUTION', 'DEXTERITY'), lambda m, c: c - m), 5\n",
    "            self.modify_characteristic('APPEARANCE', lambda a: a - 5)\n",
    "            \n",
    "        elif age <= 59:\n",
    "            self._improve_education(3)\n",
    "            self.make_distributed_modification(('STRENGTH', 'CONSTITUTION', 'DEXTERITY'), lambda m, c: c - m, 10)\n",
    "            self.modify_characteristic('APPEARANCE', lambda a: a - 10)\n",
    "        \n",
    "        elif age <= 69:\n",
    "            self._improve_education(4)\n",
    "            self.make_distributed_modification(('STRENGTH', 'CONSTITUTION', 'DEXTERITY'), lambda m, c: c - m, 20)\n",
    "            self.modify_characteristic('APPEARANCE', lambda a: a - 15)\n",
    "        \n",
    "        elif age <= 79:\n",
    "            self._improve_education(4)\n",
    "            self.make_distributed_modification(('STRENGTH', 'CONSTITUTION', 'DEXTERITY'), lambda m, c: c - m, 40)\n",
    "            self.modify_characteristic('APPEARANCE', lambda a: a - 20)\n",
    "            \n",
    "        elif age <= 90:\n",
    "            self._improve_education(4)\n",
    "            self.make_distributed_modification(('STRENGTH', 'CONSTITUTION', 'DEXTERITY'), lambda m, c: c - m, 80)\n",
    "            self.modify_characteristic('APPEARANCE', lambda a: a - 25)\n",
    "        \n",
    "    def _improve_education(self, amt_checks):\n",
    "        pass"
   ]
  },
  {
   "cell_type": "markdown",
   "metadata": {},
   "source": [
    "## Occupations\n",
    "Occupations are like traditional RPG classes in a loose sense. They don't yield unique abilities, powers, or perks, but instead dictate what the skills the character is good at. There are too many to list here from the player handbook, so we'll just discuss them abstractly here.\n",
    "\n",
    "Mathematically, we can see occupations as tuples of the form $(s, \\gamma)$, with $s$ being a set of skills, $|s| = 8$, and $\\gamma = \\{ x_i \\in \\mathbb{R} | 1 \\leq i \\leq 10 \\}$ to be the *skill transform*, which, when applied to the vector of character characteristics, yields the amount of skill points the occupation grants the character."
   ]
  },
  {
   "cell_type": "code",
   "execution_count": 31,
   "metadata": {},
   "outputs": [],
   "source": [
    "class Occupation():\n",
    "    def __init__(self, skills, credit_rating, skill_transform):\n",
    "        self._skills = skills\n",
    "        self._CR = credit_rating\n",
    "        \n",
    "    def get_skills(self):\n",
    "        return self._skills\n",
    "    \n",
    "    def get_credit_rating(self):\n",
    "        return self._CR\n",
    "    \n",
    "    def occupation_skill_points(self, characteristics):\n",
    "        return self.skill_function(characteristics)"
   ]
  },
  {
   "cell_type": "code",
   "execution_count": 32,
   "metadata": {},
   "outputs": [],
   "source": [
    "class Skill():\n",
    "    def __init__(self, base_value):\n",
    "        self._base_value = base_value\n",
    "        \n",
    "    def get_base_value(self):\n",
    "        return self._base_value"
   ]
  },
  {
   "cell_type": "code",
   "execution_count": 44,
   "metadata": {},
   "outputs": [],
   "source": [
    "character = Character()\n",
    "character.characteristics[indexOf('INTELLIGENCE', CHARACTERISTICS)] = 24\n",
    "assert np.isclose(\n",
    "    24 * 2.,\n",
    "    character.get_personal_interest_points()\n",
    ")"
   ]
  },
  {
   "cell_type": "code",
   "execution_count": null,
   "metadata": {},
   "outputs": [],
   "source": []
  }
 ],
 "metadata": {
  "kernelspec": {
   "display_name": "Python 3",
   "language": "python",
   "name": "python3"
  },
  "language_info": {
   "codemirror_mode": {
    "name": "ipython",
    "version": 3
   },
   "file_extension": ".py",
   "mimetype": "text/x-python",
   "name": "python",
   "nbconvert_exporter": "python",
   "pygments_lexer": "ipython3",
   "version": "3.8.2"
  }
 },
 "nbformat": 4,
 "nbformat_minor": 4
}
